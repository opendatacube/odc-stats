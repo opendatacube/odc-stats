{
 "cells": [
  {
   "cell_type": "markdown",
   "metadata": {},
   "source": [
    "### Pre-requisite\n",
    "\n",
    "- PostgresSQL installed and configured to give superuser permission to your `$USER`\n",
    "- Empty datacube database inited without default metadata\n",
    "- `s2_l2a.db` generated on sandbox and downloaded to PC\n",
    "\n",
    "On Sandbox (Africa)\n",
    "\n",
    "```bash\n",
    "odc-stats save-tasks --grid albers_africa_20 s2_l2a s2_l2a.db\n",
    "```\n",
    "\n",
    "On PC\n",
    "\n",
    "```bash\n",
    "createdb datacube\n",
    "datacube system init --no-default-types\n",
    "```\n",
    "\n",
    "Make sure you have `~/.datacube.conf` with something like this in it\n",
    "\n",
    "```\n",
    "[datacube]\n",
    "db_database: datacube\n",
    "```\n"
   ]
  },
  {
   "cell_type": "code",
   "execution_count": null,
   "metadata": {},
   "outputs": [],
   "source": [
    "from itertools import islice\n",
    "import datacube\n",
    "from odc import dscache\n",
    "from tqdm.auto import tqdm\n",
    "\n",
    "db_fname = \"s2_l2a.db\"\n",
    "cache = dscache.open_ro(db_fname)\n",
    "\n",
    "display(cache.count, cache.metadata, cache.products)\n",
    "\n",
    "dc = datacube.Datacube()\n",
    "\n",
    "for m in cache.metadata.values():\n",
    "    dc.index.metadata_types.add(m)\n",
    "\n",
    "for p in cache.products.values():\n",
    "    dc.index.products.add(p)"
   ]
  },
  {
   "cell_type": "markdown",
   "metadata": {},
   "source": [
    "### Long Task Warning\n",
    "\n",
    "Code below will take a while to run."
   ]
  },
  {
   "cell_type": "code",
   "execution_count": null,
   "metadata": {},
   "outputs": [],
   "source": [
    "cache = dscache.open_ro(db_fname, products=dc.index.products.get_all())\n",
    "\n",
    "display(cache.metadata, cache.products)\n",
    "\n",
    "dss = tqdm(cache.get_all(), total=cache.count)\n",
    "for ds in dss:\n",
    "    dc.index.datasets.add(ds, with_lineage=False)"
   ]
  }
 ],
 "metadata": {
  "kernelspec": {
   "display_name": "Python 3",
   "language": "python",
   "name": "python3"
  },
  "language_info": {
   "codemirror_mode": {
    "name": "ipython",
    "version": 3
   },
   "file_extension": ".py",
   "mimetype": "text/x-python",
   "name": "python",
   "nbconvert_exporter": "python",
   "pygments_lexer": "ipython3",
   "version": "3.8.2"
  }
 },
 "nbformat": 4,
 "nbformat_minor": 4
}
